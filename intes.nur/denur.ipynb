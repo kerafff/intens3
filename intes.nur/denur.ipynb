{
 "cells": [
  {
   "cell_type": "code",
   "execution_count": 1,
   "metadata": {},
   "outputs": [],
   "source": [
    "import pandas as pd"
   ]
  },
  {
   "cell_type": "code",
   "execution_count": 3,
   "metadata": {},
   "outputs": [
    {
     "name": "stdout",
     "output_type": "stream",
     "text": [
      "Файлы успешно загружены.\n"
     ]
    }
   ],
   "source": [
    "try:\n",
    "    df_test = pd.read_excel('test.xlsx')\n",
    "    df_train = pd.read_excel('train.xlsx')\n",
    "    print(\"Файлы успешно загружены.\")\n",
    "except FileNotFoundError:\n",
    "    print(\"Ошибка: Один или оба файла не найдены. Убедитесь, что файлы находятся в той же папке, что и блокнот.\")\n",
    "except Exception as e:\n",
    "    print(f\"Произошла ошибка: {e}\")"
   ]
  },
  {
   "cell_type": "code",
   "execution_count": 4,
   "metadata": {},
   "outputs": [
    {
     "name": "stdout",
     "output_type": "stream",
     "text": [
      "Первые 5 строк файла test.xlsx:\n",
      "          dt  Цена на арматуру\n",
      "0 2022-09-05             46000\n",
      "1 2022-09-12             46000\n",
      "2 2022-09-19             46000\n",
      "3 2022-09-26             45500\n",
      "4 2022-10-03             45500\n",
      "\n",
      "Информация о файле test.xlsx:\n",
      "<class 'pandas.core.frame.DataFrame'>\n",
      "RangeIndex: 28 entries, 0 to 27\n",
      "Data columns (total 2 columns):\n",
      " #   Column            Non-Null Count  Dtype         \n",
      "---  ------            --------------  -----         \n",
      " 0   dt                28 non-null     datetime64[ns]\n",
      " 1   Цена на арматуру  28 non-null     int64         \n",
      "dtypes: datetime64[ns](1), int64(1)\n",
      "memory usage: 580.0 bytes\n",
      "None\n"
     ]
    }
   ],
   "source": [
    "print(\"Первые 5 строк файла test.xlsx:\")\n",
    "print(df_test.head())\n",
    "\n",
    "print(\"\\nИнформация о файле test.xlsx:\")\n",
    "print(df_test.info())"
   ]
  },
  {
   "cell_type": "code",
   "execution_count": 5,
   "metadata": {},
   "outputs": [
    {
     "name": "stdout",
     "output_type": "stream",
     "text": [
      "Первые 5 строк файла train.xlsx:\n",
      "          dt  Цена на арматуру\n",
      "0 2015-01-05             32900\n",
      "1 2015-01-12             32500\n",
      "2 2015-01-19             32000\n",
      "3 2015-01-26             30700\n",
      "4 2015-02-02             30300\n",
      "\n",
      "Информация о файле train.xlsx:\n",
      "<class 'pandas.core.frame.DataFrame'>\n",
      "RangeIndex: 400 entries, 0 to 399\n",
      "Data columns (total 2 columns):\n",
      " #   Column            Non-Null Count  Dtype         \n",
      "---  ------            --------------  -----         \n",
      " 0   dt                400 non-null    datetime64[ns]\n",
      " 1   Цена на арматуру  400 non-null    int64         \n",
      "dtypes: datetime64[ns](1), int64(1)\n",
      "memory usage: 6.4 KB\n",
      "None\n"
     ]
    }
   ],
   "source": [
    "print(\"Первые 5 строк файла train.xlsx:\")\n",
    "print(df_train.head())\n",
    "\n",
    "print(\"\\nИнформация о файле train.xlsx:\")\n",
    "print(df_train.info())"
   ]
  },
  {
   "cell_type": "code",
   "execution_count": 2,
   "metadata": {},
   "outputs": [
    {
     "ename": "NameError",
     "evalue": "name 'df_test' is not defined",
     "output_type": "error",
     "traceback": [
      "\u001b[31m---------------------------------------------------------------------------\u001b[39m",
      "\u001b[31mNameError\u001b[39m                                 Traceback (most recent call last)",
      "\u001b[36mCell\u001b[39m\u001b[36m \u001b[39m\u001b[32mIn[2]\u001b[39m\u001b[32m, line 4\u001b[39m\n\u001b[32m      1\u001b[39m \u001b[38;5;28;01mimport\u001b[39;00m\u001b[38;5;250m \u001b[39m\u001b[34;01mmatplotlib\u001b[39;00m\u001b[34;01m.\u001b[39;00m\u001b[34;01mpyplot\u001b[39;00m\u001b[38;5;250m \u001b[39m\u001b[38;5;28;01mas\u001b[39;00m\u001b[38;5;250m \u001b[39m\u001b[34;01mplt\u001b[39;00m\n\u001b[32m      3\u001b[39m plt.figure(figsize=(\u001b[32m12\u001b[39m, \u001b[32m6\u001b[39m))  \u001b[38;5;66;03m# Задаем размер графика\u001b[39;00m\n\u001b[32m----> \u001b[39m\u001b[32m4\u001b[39m plt.plot(\u001b[43mdf_test\u001b[49m[\u001b[33m'\u001b[39m\u001b[33mdt\u001b[39m\u001b[33m'\u001b[39m], df_test[\u001b[33m'\u001b[39m\u001b[33mЦена на арматуру\u001b[39m\u001b[33m'\u001b[39m], marker=\u001b[33m'\u001b[39m\u001b[33mo\u001b[39m\u001b[33m'\u001b[39m, linestyle=\u001b[33m'\u001b[39m\u001b[33m-\u001b[39m\u001b[33m'\u001b[39m)  \u001b[38;5;66;03m# Строим график\u001b[39;00m\n\u001b[32m      5\u001b[39m plt.xlabel(\u001b[33m'\u001b[39m\u001b[33mДата\u001b[39m\u001b[33m'\u001b[39m)  \u001b[38;5;66;03m# Подпись оси X\u001b[39;00m\n\u001b[32m      6\u001b[39m plt.ylabel(\u001b[33m'\u001b[39m\u001b[33mЦена на арматуру\u001b[39m\u001b[33m'\u001b[39m)  \u001b[38;5;66;03m# Подпись оси Y\u001b[39;00m\n",
      "\u001b[31mNameError\u001b[39m: name 'df_test' is not defined"
     ]
    },
    {
     "data": {
      "text/plain": [
       "<Figure size 1200x600 with 0 Axes>"
      ]
     },
     "metadata": {},
     "output_type": "display_data"
    }
   ],
   "source": [
    "import matplotlib.pyplot as plt\n",
    "\n",
    "plt.figure(figsize=(12, 6))  # Задаем размер графика\n",
    "plt.plot(df_test['dt'], df_test['Цена на арматуру'], marker='o', linestyle='-')  # Строим график\n",
    "plt.xlabel('Дата')  # Подпись оси X\n",
    "plt.ylabel('Цена на арматуру')  # Подпись оси Y\n",
    "plt.title('Динамика цены на арматуру')  # Заголовок графика\n",
    "plt.grid(True)  # Включаем сетку\n",
    "plt.xticks(rotation=45) # Поворачиваем подписи оси X для лучшей читаемости\n",
    "plt.tight_layout()\n",
    "plt.show()  # Показываем график"
   ]
  },
  {
   "cell_type": "code",
   "execution_count": 6,
   "metadata": {},
   "outputs": [
    {
     "name": "stdout",
     "output_type": "stream",
     "text": [
      "Общие столбцы: {'dt', 'Цена на арматуру'}\n"
     ]
    }
   ],
   "source": [
    "common_columns = set(df_test.columns).intersection(df_train.columns)\n",
    "print(f\"Общие столбцы: {common_columns}\")"
   ]
  },
  {
   "cell_type": "code",
   "execution_count": 7,
   "metadata": {},
   "outputs": [
    {
     "name": "stdout",
     "output_type": "stream",
     "text": [
      "Столбец 'ID' не найден в обоих файлах.\n"
     ]
    }
   ],
   "source": [
    "column_to_compare = 'ID'  # Замени на имя столбца, который хочешь сравнить\n",
    "if column_to_compare in common_columns:\n",
    "    common_ids = set(df_test[column_to_compare]).intersection(df_train[column_to_compare])\n",
    "    print(f\"Общие значения в столбце '{column_to_compare}': {common_ids}\")\n",
    "\n",
    "    # Вывод строк с общими ID (необязательно, но полезно для просмотра)\n",
    "    if common_ids:\n",
    "        print(\"\\nСтроки из test.xlsx с общими ID:\")\n",
    "        print(df_test[df_test[column_to_compare].isin(common_ids)])\n",
    "        print(\"\\nСтроки из train.xlsx с общими ID:\")\n",
    "        print(df_train[df_train[column_to_compare].isin(common_ids)])\n",
    "else:\n",
    "    print(f\"Столбец '{column_to_compare}' не найден в обоих файлах.\")"
   ]
  }
 ],
 "metadata": {
  "kernelspec": {
   "display_name": ".venv",
   "language": "python",
   "name": "python3"
  },
  "language_info": {
   "codemirror_mode": {
    "name": "ipython",
    "version": 3
   },
   "file_extension": ".py",
   "mimetype": "text/x-python",
   "name": "python",
   "nbconvert_exporter": "python",
   "pygments_lexer": "ipython3",
   "version": "3.13.0"
  }
 },
 "nbformat": 4,
 "nbformat_minor": 2
}
